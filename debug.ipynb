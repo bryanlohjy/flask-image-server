{
 "cells": [
  {
   "cell_type": "code",
   "execution_count": 44,
   "metadata": {
    "collapsed": false
   },
   "outputs": [],
   "source": [
    "import re\n",
    "import base64\n",
    "from scipy.misc import imsave, imread, imresize\n",
    "from flask import jsonify"
   ]
  },
  {
   "cell_type": "code",
   "execution_count": 35,
   "metadata": {
    "collapsed": false
   },
   "outputs": [],
   "source": [
    "def convertImage(imgData1):\n",
    "    imgstr = re.search(r'base64,(.*)',imgData1).group(1)\n",
    "    with open('output.png','wb') as output:\n",
    "        output.write(base64.b64decode(imgstr))"
   ]
  },
  {
   "cell_type": "code",
   "execution_count": 23,
   "metadata": {
    "collapsed": false
   },
   "outputs": [],
   "source": [
    "baseURI = 'data:image/png;base64,iVBORw0KGgoAAAANSUhEUgAAAEAAAABACAAAAACPAi4CAAACRklEQVR4nO2Vv2sUQRTHv29mcjFCEEMQbQS74I8TQSQo6j8gHqcIdukEsbSzERsbiyjaWdiIoGhnEQwEFGsRRATFwlhYSKIienj3Zp7Fzuzt3M2yqykE2Vcsy968z7z3fT+OBBsztUH/BtAAGsD/A4CMGDtZvdKerHLTWMjOjwAcy+eLW0A1bl5KARzLvW0gXZmYQpszFxOlQ3z+tmo5VymN6Z/Swalwv6zP11OVQK9kPAKhxY+H+nUA6sfBvYFVXOsyaNVx97clAH9gwT8C5K+lVUycKGggldVPnSgAqDfIDrhNJY3IvUCYHgcIfTn2qSUAQCtzLlFNqxcvzzIAs3bhmtW5Y5gBuQ8NABrzwnbc2PL+rEsUloSDXw6w0oUhIjK4JYPRERMRludQREQau/viwueQglOry7ACEJtd73qpDLbeATkAhM4ED7XzoIHchE9LlXUz+Se9EJsHFgBOjkKXOMYAjcPDBHKAlZeq1hYANK4XNTJBgkfOMABQWRzsw7CbO9HI+gQGe/zXqjA0ThYUCBE4/ex1prDMHuckg5a/+7k5i2gAfQ3OZT1pcCnZBFbeT4EAELavFTX0EZivj2EBENNpiE0IMHm3ZxiA5hMzNpIp4zwIbXwkwgdzYvM2fjJs40IZzwTAjZI2fpqpqzD3K74iS+HDCqAAstOd5FYVPMQEAzD9botN/JuIyNXMTaMblWiYwfoOL2HUxsMI3ranHAD9bQGpHSn0ZmanA6B+7jswEuLfLtXc/v3fewNoAA2gAQT7DeKsKp+fXS6iAAAAAElFTkSuQmCC'"
   ]
  },
  {
   "cell_type": "code",
   "execution_count": 40,
   "metadata": {
    "collapsed": false
   },
   "outputs": [
    {
     "data": {
      "text/plain": [
       "<_sre.SRE_Match object; span=(15, 874), match='base64,iVBORw0KGgoAAAANSUhEUgAAAEAAAABACAAAAACPAi>"
      ]
     },
     "execution_count": 40,
     "metadata": {},
     "output_type": "execute_result"
    }
   ],
   "source": [
    "# convertImage(baseURI)\n",
    "imgstr = re.search(r'base64,(.*)',baseURI)\n",
    "imgstr"
   ]
  },
  {
   "cell_type": "code",
   "execution_count": 25,
   "metadata": {
    "collapsed": false
   },
   "outputs": [
    {
     "name": "stderr",
     "output_type": "stream",
     "text": [
      "F:\\Anaconda3\\lib\\site-packages\\ipykernel\\__main__.py:1: DeprecationWarning: `imread` is deprecated!\n",
      "`imread` is deprecated in SciPy 1.0.0, and will be removed in 1.2.0.\n",
      "Use ``imageio.imread`` instead.\n",
      "  if __name__ == '__main__':\n",
      "F:\\Anaconda3\\lib\\site-packages\\ipykernel\\__main__.py:2: DeprecationWarning: `imresize` is deprecated!\n",
      "`imresize` is deprecated in SciPy 1.0.0, and will be removed in 1.2.0.\n",
      "Use ``skimage.transform.resize`` instead.\n",
      "  from ipykernel import kernelapp as app\n"
     ]
    }
   ],
   "source": [
    "x = imread('output.png',mode='L')\n",
    "x = imresize(x,(64, 64))"
   ]
  },
  {
   "cell_type": "code",
   "execution_count": 51,
   "metadata": {
    "collapsed": false
   },
   "outputs": [
    {
     "data": {
      "text/plain": [
       "'[24, 20]'"
      ]
     },
     "execution_count": 51,
     "metadata": {},
     "output_type": "execute_result"
    }
   ],
   "source": [
    "str(list([24, 20]))"
   ]
  },
  {
   "cell_type": "code",
   "execution_count": null,
   "metadata": {
    "collapsed": true
   },
   "outputs": [],
   "source": []
  }
 ],
 "metadata": {
  "kernelspec": {
   "display_name": "Python 3",
   "language": "python",
   "name": "python3"
  },
  "language_info": {
   "codemirror_mode": {
    "name": "ipython",
    "version": 3
   },
   "file_extension": ".py",
   "mimetype": "text/x-python",
   "name": "python",
   "nbconvert_exporter": "python",
   "pygments_lexer": "ipython3",
   "version": "3.6.0"
  }
 },
 "nbformat": 4,
 "nbformat_minor": 2
}
